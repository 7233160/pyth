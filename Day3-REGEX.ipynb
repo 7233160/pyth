{
 "cells": [
  {
   "cell_type": "code",
   "execution_count": 1,
   "metadata": {},
   "outputs": [],
   "source": [
    "import re"
   ]
  },
  {
   "cell_type": "code",
   "execution_count": 3,
   "metadata": {},
   "outputs": [],
   "source": [
    "phoneNumRegex=re.compile(r'\\+91-[\\d]{10}')"
   ]
  },
  {
   "cell_type": "code",
   "execution_count": 4,
   "metadata": {},
   "outputs": [],
   "source": [
    "obj=phoneNumRegex.search('My number is +91-7985124362')"
   ]
  },
  {
   "cell_type": "code",
   "execution_count": 7,
   "metadata": {},
   "outputs": [
    {
     "name": "stdout",
     "output_type": "stream",
     "text": [
      "Phone Number found: +91-7985124362\n"
     ]
    }
   ],
   "source": [
    "print('Phone Number found: '+obj.group())"
   ]
  },
  {
   "cell_type": "code",
   "execution_count": 8,
   "metadata": {},
   "outputs": [
    {
     "name": "stdout",
     "output_type": "stream",
     "text": [
      "<re.Match object; span=(13, 27), match='+91-7985124362'>\n"
     ]
    }
   ],
   "source": [
    "print(obj)"
   ]
  },
  {
   "cell_type": "code",
   "execution_count": 13,
   "metadata": {},
   "outputs": [
    {
     "name": "stdout",
     "output_type": "stream",
     "text": [
      "+91-7985124362\n"
     ]
    }
   ],
   "source": [
    "print(obj.group(0))"
   ]
  },
  {
   "cell_type": "code",
   "execution_count": 18,
   "metadata": {},
   "outputs": [
    {
     "name": "stdout",
     "output_type": "stream",
     "text": [
      "('415', '555-4242')\n"
     ]
    }
   ],
   "source": [
    "phoneNumRegex = re.compile(r'(\\d\\d\\d)-(\\d\\d\\d-\\d\\d\\d\\d)')\n",
    "mo = phoneNumRegex.search('My number is 415-555-4242.')\n",
    "print(mo.groups())"
   ]
  },
  {
   "cell_type": "code",
   "execution_count": 22,
   "metadata": {},
   "outputs": [
    {
     "name": "stdout",
     "output_type": "stream",
     "text": [
      "4242\n"
     ]
    }
   ],
   "source": [
    "phoneNumRegex = re.compile(r'(\\d\\d\\d)-(\\d\\d\\d)-(\\d\\d\\d\\d)')\n",
    "mo = phoneNumRegex.search('My number is 415-555-4242.')\n",
    "print(mo.group(3))"
   ]
  },
  {
   "cell_type": "code",
   "execution_count": 23,
   "metadata": {},
   "outputs": [
    {
     "name": "stdout",
     "output_type": "stream",
     "text": [
      "Batwoman\n",
      "Batwowowowoman\n",
      "True\n"
     ]
    }
   ],
   "source": [
    "batRegex = re.compile(r'Bat(wo)+man')\n",
    "\n",
    "mo1 = batRegex.search('The Adventures of Batwoman')\n",
    "print(mo1.group())\n",
    "\n",
    "mo2 = batRegex.search('The Adventures of Batwowowowoman')\n",
    "print(mo2.group())\n",
    "\n",
    "#since it gives an error due to null (None) value\n",
    "mo3 = batRegex.search('The Adventures of Batman')\n",
    "print(mo3==None)"
   ]
  },
  {
   "cell_type": "code",
   "execution_count": 24,
   "metadata": {},
   "outputs": [
    {
     "data": {
      "text/plain": [
       "['R',\n",
       " 'b',\n",
       " 'c',\n",
       " 'p',\n",
       " ' ',\n",
       " 't',\n",
       " 's',\n",
       " ' ',\n",
       " 'b',\n",
       " 'b',\n",
       " 'y',\n",
       " ' ',\n",
       " 'f',\n",
       " 'd',\n",
       " '.',\n",
       " ' ',\n",
       " 'B',\n",
       " 'B',\n",
       " 'Y',\n",
       " ' ',\n",
       " 'F',\n",
       " 'D',\n",
       " '.']"
      ]
     },
     "execution_count": 24,
     "metadata": {},
     "output_type": "execute_result"
    }
   ],
   "source": [
    "consonantRegex = re.compile(r'[^aeiouAEIOU]')\n",
    "consonantRegex.findall('Robocop eats baby food. BABY FOOD.')"
   ]
  },
  {
   "cell_type": "markdown",
   "metadata": {},
   "source": [
    "# Files CSV"
   ]
  },
  {
   "cell_type": "code",
   "execution_count": 25,
   "metadata": {},
   "outputs": [],
   "source": [
    "import csv"
   ]
  },
  {
   "cell_type": "code",
   "execution_count": 30,
   "metadata": {},
   "outputs": [],
   "source": [
    "exampleFile=open('example.csv')\n",
    "exampleReader=csv.reader(exampleFile)\n",
    "exampleData=list(exampleReader)\n"
   ]
  },
  {
   "cell_type": "code",
   "execution_count": 31,
   "metadata": {},
   "outputs": [
    {
     "data": {
      "text/plain": [
       "[['4/5/2014 13:34', 'Apples', '73'],\n",
       " ['4/5/2014 3:41', 'Cherries', '85'],\n",
       " ['4/6/2014 12:46', 'Pears', '14'],\n",
       " ['4/8/2014 8:59', 'Oranges', '52'],\n",
       " ['4/10/2014 2:07', 'Apples', '152'],\n",
       " ['4/10/2014 18:10', 'Bananas', '23'],\n",
       " ['4/10/2014 2:40', 'Strawberries', '98']]"
      ]
     },
     "execution_count": 31,
     "metadata": {},
     "output_type": "execute_result"
    }
   ],
   "source": [
    "exampleData"
   ]
  },
  {
   "cell_type": "code",
   "execution_count": 32,
   "metadata": {},
   "outputs": [
    {
     "data": {
      "text/plain": [
       "['4/5/2014 13:34', 'Apples', '73']"
      ]
     },
     "execution_count": 32,
     "metadata": {},
     "output_type": "execute_result"
    }
   ],
   "source": [
    "exampleData[0]"
   ]
  },
  {
   "cell_type": "code",
   "execution_count": 33,
   "metadata": {},
   "outputs": [
    {
     "data": {
      "text/plain": [
       "'4/5/2014 13:34'"
      ]
     },
     "execution_count": 33,
     "metadata": {},
     "output_type": "execute_result"
    }
   ],
   "source": [
    "exampleData[0][0]"
   ]
  },
  {
   "cell_type": "code",
   "execution_count": 35,
   "metadata": {},
   "outputs": [
    {
     "name": "stdout",
     "output_type": "stream",
     "text": [
      "['4/5/2014 13:34', 'Apples', '73']\n",
      "4\n",
      "A\n",
      "7\n",
      "['4/5/2014 3:41', 'Cherries', '85']\n",
      "4\n",
      "C\n",
      "8\n",
      "['4/6/2014 12:46', 'Pears', '14']\n",
      "4\n",
      "P\n",
      "1\n",
      "['4/8/2014 8:59', 'Oranges', '52']\n",
      "4\n",
      "O\n",
      "5\n",
      "['4/10/2014 2:07', 'Apples', '152']\n",
      "4\n",
      "A\n",
      "1\n",
      "['4/10/2014 18:10', 'Bananas', '23']\n",
      "4\n",
      "B\n",
      "2\n",
      "['4/10/2014 2:40', 'Strawberries', '98']\n",
      "4\n",
      "S\n",
      "9\n"
     ]
    }
   ],
   "source": [
    "for row in exampleData:\n",
    "    print(row)\n",
    "    for item in row:\n",
    "        print(item[0])"
   ]
  },
  {
   "cell_type": "code",
   "execution_count": 36,
   "metadata": {},
   "outputs": [],
   "source": [
    "outputFile = open('output.csv', 'w', newline='')\n",
    "outputWriter = csv.writer(outputFile)\n",
    "\n",
    "\n",
    "outputWriter.writerow(['spam', 'eggs', 'bacon', 'ham'])\n",
    "\n",
    "outputWriter.writerow(['Hello, world!', 'eggs', 'bacon', 'ham'])\n",
    "\n",
    "outputWriter.writerow([1, 2, 3.141592, 4])\n",
    "\n",
    "outputFile.close()"
   ]
  },
  {
   "cell_type": "code",
   "execution_count": 37,
   "metadata": {},
   "outputs": [
    {
     "data": {
      "text/plain": [
       "<_csv.writer at 0x2463bc160a0>"
      ]
     },
     "execution_count": 37,
     "metadata": {},
     "output_type": "execute_result"
    }
   ],
   "source": []
  },
  {
   "cell_type": "code",
   "execution_count": 40,
   "metadata": {},
   "outputs": [],
   "source": [
    "outputFile = open('output.csv', 'w', newline='')\n",
    "outputWriter = csv.writer(outputFile)\n",
    "\n",
    "\n",
    "outputWriter.writerow(['spam', 'eggs', 'bacon', 'ham'])\n",
    "\n",
    "outputWriter.writerow(['Hello, world!', 'eggs', 'bacon', 'ham'])\n",
    "\n",
    "outputWriter.writerow([1, 2, 3.141592, 4])\n",
    "\n",
    "outputFile.close()"
   ]
  },
  {
   "cell_type": "code",
   "execution_count": 41,
   "metadata": {},
   "outputs": [],
   "source": [
    "exampleFile=open('output.csv')"
   ]
  },
  {
   "cell_type": "code",
   "execution_count": 42,
   "metadata": {},
   "outputs": [
    {
     "data": {
      "text/plain": [
       "[['spam', 'eggs', 'bacon', 'ham'],\n",
       " ['Hello, world!', 'eggs', 'bacon', 'ham'],\n",
       " ['1', '2', '3.141592', '4']]"
      ]
     },
     "execution_count": 42,
     "metadata": {},
     "output_type": "execute_result"
    }
   ],
   "source": [
    "exampleFile=open('output.csv')\n",
    "exampleReader=csv.reader(exampleFile)\n",
    "exampleData=list(exampleReader)\n",
    "exampleData"
   ]
  },
  {
   "cell_type": "code",
   "execution_count": 46,
   "metadata": {},
   "outputs": [],
   "source": [
    "csvFile=open('example.tsv','w',newline='')\n",
    "csvWriter=csv.writer(csvFile,delimiter='\\t', lineterminator='\\n\\n')\n",
    "csvWriter.writerow(['apples','oranges','grapes'])\n",
    "csvWriter.writerow(['eggs', 'bacon', 'ham'])\n",
    "csvWriter.writerow(['spam','spam','spam','spam'])\n",
    "csvFile.close()"
   ]
  },
  {
   "cell_type": "code",
   "execution_count": 47,
   "metadata": {},
   "outputs": [
    {
     "data": {
      "text/plain": [
       "[['apples\\toranges\\tgrapes'],\n",
       " [],\n",
       " ['eggs\\tbacon\\tham'],\n",
       " [],\n",
       " ['spam\\tspam\\tspam\\tspam'],\n",
       " []]"
      ]
     },
     "execution_count": 47,
     "metadata": {},
     "output_type": "execute_result"
    }
   ],
   "source": [
    "exampleFile=open('example.tsv')\n",
    "exampleReader=csv.reader(exampleFile)\n",
    "exampleData=list(exampleReader)\n",
    "exampleData"
   ]
  },
  {
   "cell_type": "code",
   "execution_count": 48,
   "metadata": {},
   "outputs": [],
   "source": [
    "import json"
   ]
  },
  {
   "cell_type": "code",
   "execution_count": 49,
   "metadata": {},
   "outputs": [
    {
     "data": {
      "text/plain": [
       "{'name': 'Zolphie', 'isCat': True, 'miceCaught': 0, 'felineIQ': None}"
      ]
     },
     "execution_count": 49,
     "metadata": {},
     "output_type": "execute_result"
    }
   ],
   "source": [
    "stringOfJsonData='{\"name\":\"Zolphie\", \"isCat\":true, \"miceCaught\":0,\"felineIQ\":null}'\n",
    "pythonValue = json.loads(stringOfJsonData)\n",
    "pythonValue"
   ]
  },
  {
   "cell_type": "code",
   "execution_count": 50,
   "metadata": {},
   "outputs": [
    {
     "name": "stdout",
     "output_type": "stream",
     "text": [
      "<class 'dict'>\n"
     ]
    }
   ],
   "source": [
    "print(type(pythonValue))"
   ]
  },
  {
   "cell_type": "code",
   "execution_count": 51,
   "metadata": {},
   "outputs": [
    {
     "data": {
      "text/plain": [
       "True"
      ]
     },
     "execution_count": 51,
     "metadata": {},
     "output_type": "execute_result"
    }
   ],
   "source": [
    "pythonValue['isCat']"
   ]
  },
  {
   "cell_type": "code",
   "execution_count": 52,
   "metadata": {},
   "outputs": [
    {
     "data": {
      "text/plain": [
       "0"
      ]
     },
     "execution_count": 52,
     "metadata": {},
     "output_type": "execute_result"
    }
   ],
   "source": [
    "pythonValue['miceCaught']"
   ]
  },
  {
   "cell_type": "code",
   "execution_count": 53,
   "metadata": {},
   "outputs": [
    {
     "data": {
      "text/plain": [
       "'{\"isCat\": true, \"miceCaught\": 0, \"name\": \"Zophie\", \"felineIQ\": null}'"
      ]
     },
     "execution_count": 53,
     "metadata": {},
     "output_type": "execute_result"
    }
   ],
   "source": [
    "pythonValue = {'isCat': True, 'miceCaught': 0, 'name': 'Zophie','felineIQ': None}\n",
    "stringOfJsonData = json.dumps(pythonValue)\n",
    "stringOfJsonData"
   ]
  },
  {
   "cell_type": "code",
   "execution_count": 54,
   "metadata": {},
   "outputs": [
    {
     "data": {
      "text/plain": [
       "{'isCat': True, 'miceCaught': 0, 'name': 'Zophie', 'felineIQ': None}"
      ]
     },
     "execution_count": 54,
     "metadata": {},
     "output_type": "execute_result"
    }
   ],
   "source": [
    "pythonValue"
   ]
  },
  {
   "cell_type": "code",
   "execution_count": 55,
   "metadata": {},
   "outputs": [
    {
     "name": "stdout",
     "output_type": "stream",
     "text": [
      "<class 'str'>\n"
     ]
    }
   ],
   "source": [
    "print(type(stringOfJsonData))"
   ]
  },
  {
   "cell_type": "markdown",
   "metadata": {},
   "source": [
    "#Task"
   ]
  },
  {
   "cell_type": "code",
   "execution_count": 1,
   "metadata": {},
   "outputs": [],
   "source": [
    "import json"
   ]
  },
  {
   "cell_type": "code",
   "execution_count": 2,
   "metadata": {
    "scrolled": true
   },
   "outputs": [],
   "source": [
    "with open('data.json') as f:\n",
    "    fdata= json.load(f)\n"
   ]
  },
  {
   "cell_type": "code",
   "execution_count": 3,
   "metadata": {},
   "outputs": [
    {
     "data": {
      "text/plain": [
       "'Git'"
      ]
     },
     "execution_count": 3,
     "metadata": {},
     "output_type": "execute_result"
    }
   ],
   "source": [
    "fdata['backend_name']"
   ]
  },
  {
   "cell_type": "code",
   "execution_count": 4,
   "metadata": {},
   "outputs": [
    {
     "data": {
      "text/plain": [
       "'commit'"
      ]
     },
     "execution_count": 4,
     "metadata": {},
     "output_type": "execute_result"
    }
   ],
   "source": [
    "fdata['category']"
   ]
  },
  {
   "cell_type": "code",
   "execution_count": 5,
   "metadata": {},
   "outputs": [
    {
     "data": {
      "text/plain": [
       "{'Author': 'Honza Kral <honza.kral@gmail.com>',\n",
       " 'AuthorDate': 'Thu May 2 00:34:46 2013 +0200',\n",
       " 'Commit': 'Honza Kral <honza.kral@gmail.com>',\n",
       " 'CommitDate': 'Thu May 2 00:34:46 2013 +0200',\n",
       " 'commit': 'ebd6370e5914c941cd25acc79fe4614a59361509',\n",
       " 'files': [{'action': 'M',\n",
       "   'added': '27',\n",
       "   'file': 'elasticsearch/connection.py',\n",
       "   'indexes': ['71845ed', '60c7460'],\n",
       "   'modes': ['100644', '100644'],\n",
       "   'removed': '2'},\n",
       "  {'action': 'M',\n",
       "   'added': '39',\n",
       "   'file': 'test_elasticsearch/test_connection.py',\n",
       "   'indexes': ['d25faba', '5aac777'],\n",
       "   'modes': ['100644', '100644'],\n",
       "   'removed': '1'}],\n",
       " 'message': 'Add logging on successful request',\n",
       " 'parents': ['71daa6ef14186f9fa9715eacddd4e8c43e3ae392'],\n",
       " 'refs': []}"
      ]
     },
     "execution_count": 5,
     "metadata": {},
     "output_type": "execute_result"
    }
   ],
   "source": [
    "fdata['data']"
   ]
  },
  {
   "cell_type": "code",
   "execution_count": 6,
   "metadata": {},
   "outputs": [
    {
     "data": {
      "text/plain": [
       "'Honza Kral <honza.kral@gmail.com>'"
      ]
     },
     "execution_count": 6,
     "metadata": {},
     "output_type": "execute_result"
    }
   ],
   "source": [
    "fdata['data']['Author']"
   ]
  },
  {
   "cell_type": "code",
   "execution_count": 70,
   "metadata": {},
   "outputs": [
    {
     "data": {
      "text/plain": [
       "56"
      ]
     },
     "execution_count": 70,
     "metadata": {},
     "output_type": "execute_result"
    }
   ],
   "source": [
    "import csv\n",
    "File=open('data.csv','w',newline='\\n')\n",
    "Write=csv.writer(File)\n",
    "Write.writerow([\"backend_name\",fdata['backend_name']])\n",
    "Write.writerow([\"category\",fdata['category']])\n",
    "Write.writerow([\"commit\",fdata['data']['commit']])\n",
    "Write.writerow([\"timestamp\",fdata['timestamp']])\n",
    "Write.writerow([\"uuid\",fdata['uuid']])\n",
    "Write.writerow(['removed',s])\n",
    "li=[item2 for item1 in fdata['data']['files'] for item2 in item1['indexes']]\n",
    "Write.writerow(['indexes',li])"
   ]
  },
  {
   "cell_type": "code",
   "execution_count": 44,
   "metadata": {},
   "outputs": [
    {
     "data": {
      "text/plain": [
       "['71845ed', '60c7460', 'd25faba', '5aac777']"
      ]
     },
     "execution_count": 44,
     "metadata": {},
     "output_type": "execute_result"
    }
   ],
   "source": [
    "li=[]\n",
    "for item1 in fdata['data']['files']:\n",
    "    for item2 in item1['indexes']:\n",
    "        li.append(item2)\n",
    "li    "
   ]
  },
  {
   "cell_type": "code",
   "execution_count": 69,
   "metadata": {},
   "outputs": [
    {
     "data": {
      "text/plain": [
       "['71845ed', '60c7460', 'd25faba', '5aac777']"
      ]
     },
     "execution_count": 69,
     "metadata": {},
     "output_type": "execute_result"
    }
   ],
   "source": [
    "li=[item2 for item1 in fdata['data']['files'] for item2 in item1['indexes']]\n",
    "li"
   ]
  },
  {
   "cell_type": "code",
   "execution_count": 12,
   "metadata": {},
   "outputs": [
    {
     "name": "stdout",
     "output_type": "stream",
     "text": [
      "3\n"
     ]
    }
   ],
   "source": [
    "s=0\n",
    "for item in fdata['data']['files']:\n",
    "    s=s+int(item['removed'])\n",
    "print(s)"
   ]
  },
  {
   "cell_type": "code",
   "execution_count": 71,
   "metadata": {},
   "outputs": [
    {
     "data": {
      "text/plain": [
       "[['backend_name', 'Git'],\n",
       " ['category', 'commit'],\n",
       " ['commit', 'ebd6370e5914c941cd25acc79fe4614a59361509'],\n",
       " ['timestamp', '1551817991.390303'],\n",
       " ['uuid', '705401faa5581f8dd95a96c9c09c4bfcc570688e'],\n",
       " ['removed', '3'],\n",
       " ['indexes', \"['71845ed', '60c7460', 'd25faba', '5aac777']\"]]"
      ]
     },
     "execution_count": 71,
     "metadata": {},
     "output_type": "execute_result"
    }
   ],
   "source": [
    "exampleFile = open('data.csv')\n",
    "exampleReader = csv.reader(exampleFile)\n",
    "exampleData = list(exampleReader)\n",
    "exampleData"
   ]
  },
  {
   "cell_type": "markdown",
   "metadata": {},
   "source": [
    "#Regex Task"
   ]
  },
  {
   "cell_type": "code",
   "execution_count": 64,
   "metadata": {},
   "outputs": [
    {
     "data": {
      "text/plain": [
       "'Honza Kral <honza.kral@gmail.com>'"
      ]
     },
     "execution_count": 64,
     "metadata": {},
     "output_type": "execute_result"
    }
   ],
   "source": [
    "import json\n",
    "with open('data.json') as f:\n",
    "    fdata= json.load(f)    \n",
    "import re\n",
    "fdata['origin']\n",
    "fdata['data']['Author']"
   ]
  },
  {
   "cell_type": "code",
   "execution_count": 62,
   "metadata": {},
   "outputs": [],
   "source": [
    "Regex=re.compile(r'https://(\\w)+.com/(\\w)+/(\\w)+(-)?(\\w)+')"
   ]
  },
  {
   "cell_type": "code",
   "execution_count": 63,
   "metadata": {},
   "outputs": [
    {
     "name": "stdout",
     "output_type": "stream",
     "text": [
      "https://github.com/elastic/elasticsearch-py\n"
     ]
    }
   ],
   "source": [
    "url=Regex.search(fdata['origin'])\n",
    "print(url.group())"
   ]
  },
  {
   "cell_type": "code",
   "execution_count": 65,
   "metadata": {},
   "outputs": [],
   "source": [
    "Regex1= re.compile(r'(\\w)+\\s(\\w)+\\s<(\\w)+.(\\w)+@(\\w)+.com')"
   ]
  },
  {
   "cell_type": "code",
   "execution_count": 67,
   "metadata": {},
   "outputs": [
    {
     "name": "stdout",
     "output_type": "stream",
     "text": [
      "Honza Kral <honza.kral@gmail.com\n"
     ]
    }
   ],
   "source": [
    "author=Regex1.search(fdata['data']['Author'])\n",
    "print(author.group())"
   ]
  }
 ],
 "metadata": {
  "kernelspec": {
   "display_name": "Python 3",
   "language": "python",
   "name": "python3"
  },
  "language_info": {
   "codemirror_mode": {
    "name": "ipython",
    "version": 3
   },
   "file_extension": ".py",
   "mimetype": "text/x-python",
   "name": "python",
   "nbconvert_exporter": "python",
   "pygments_lexer": "ipython3",
   "version": "3.7.3"
  }
 },
 "nbformat": 4,
 "nbformat_minor": 2
}
